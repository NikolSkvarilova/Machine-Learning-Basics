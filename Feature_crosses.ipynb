{
  "nbformat": 4,
  "nbformat_minor": 0,
  "metadata": {
    "colab": {
      "name": "Feature crosses.ipynb",
      "provenance": [],
      "authorship_tag": "ABX9TyMdc6EPD9DCVM0sKp3Pd4Hc",
      "include_colab_link": true
    },
    "kernelspec": {
      "name": "python3",
      "display_name": "Python 3"
    },
    "language_info": {
      "name": "python"
    }
  },
  "cells": [
    {
      "cell_type": "markdown",
      "metadata": {
        "id": "view-in-github",
        "colab_type": "text"
      },
      "source": [
        "<a href=\"https://colab.research.google.com/github/NikolSkvarilova/Machine-Learning-Basics/blob/main/Feature_crosses.ipynb\" target=\"_parent\"><img src=\"https://colab.research.google.com/assets/colab-badge.svg\" alt=\"Open In Colab\"/></a>"
      ]
    },
    {
      "cell_type": "code",
      "execution_count": 1,
      "metadata": {
        "id": "yvd7WO-dwk8e"
      },
      "outputs": [],
      "source": [
        "import tensorflow as tf\n",
        "from tensorflow import feature_column\n",
        "from tensorflow.keras import layers\n",
        "from matplotlib import pyplot as plt\n",
        "import pandas as pd\n",
        "import numpy as np"
      ]
    },
    {
      "cell_type": "code",
      "source": [
        "train_df = pd.read_csv(\"https://download.mlcc.google.com/mledu-datasets/california_housing_train.csv\")\n",
        "test_df = pd.read_csv(\"https://download.mlcc.google.com/mledu-datasets/california_housing_test.csv\")\n",
        "\n",
        "# Scale the labels\n",
        "scale_factor = 1000.0\n",
        "# Scale the training set's label.\n",
        "train_df[\"median_house_value\"] /= scale_factor \n",
        "\n",
        "# Scale the test set's label\n",
        "test_df[\"median_house_value\"] /= scale_factor\n",
        "\n",
        "# Shuffle the examples\n",
        "train_df = train_df.reindex(np.random.permutation(train_df.index))"
      ],
      "metadata": {
        "id": "fpc3IAtDw3te"
      },
      "execution_count": 2,
      "outputs": []
    },
    {
      "cell_type": "code",
      "source": [
        "feature_columns = []\n",
        "\n",
        "latitude = tf.feature_column.numeric_column(\"latitude\")\n",
        "feature_columns.append(latitude)\n",
        "                  \n",
        "longitude = tf.feature_column.numeric_column(\"longitude\")\n",
        "feature_columns.append(longitude)\n",
        "\n",
        "fp_feature_layer = layers.DenseFeatures(feature_columns)"
      ],
      "metadata": {
        "id": "eW4c_6f-x09z"
      },
      "execution_count": 3,
      "outputs": []
    },
    {
      "cell_type": "code",
      "source": [
        "def create_model(my_learning_rate, feature_layer):\n",
        "  \"\"\"Create and compile a simple linear regression model.\"\"\"\n",
        "  # Most simple tf.keras models are sequential.\n",
        "  model = tf.keras.models.Sequential()\n",
        "\n",
        "  # Add the layer containing the feature columns to the model.\n",
        "  model.add(feature_layer)\n",
        "\n",
        "  # Add one linear layer to the model to yield a simple linear regressor.\n",
        "  model.add(tf.keras.layers.Dense(units=1, input_shape=(1,)))\n",
        "\n",
        "  # Construct the layers into a model that TensorFlow can execute.\n",
        "  model.compile(optimizer=tf.keras.optimizers.RMSprop(lr=my_learning_rate),\n",
        "                loss=\"mean_squared_error\",\n",
        "                metrics=[tf.keras.metrics.RootMeanSquaredError()])\n",
        "\n",
        "  return model           \n",
        "\n",
        "\n",
        "def train_model(model, dataset, epochs, batch_size, label_name):\n",
        "  \"\"\"Feed a dataset into the model in order to train it.\"\"\"\n",
        "\n",
        "  features = {name:np.array(value) for name, value in dataset.items()}\n",
        "  label = np.array(features.pop(label_name))\n",
        "  history = model.fit(x=features, y=label, batch_size=batch_size,\n",
        "                      epochs=epochs, shuffle=True)\n",
        "\n",
        "  # The list of epochs is stored separately from the rest of history.\n",
        "  epochs = history.epoch\n",
        "  \n",
        "  # Isolate the mean absolute error for each epoch.\n",
        "  hist = pd.DataFrame(history.history)\n",
        "  rmse = hist[\"root_mean_squared_error\"]\n",
        "\n",
        "  return epochs, rmse   \n",
        "\n",
        "\n",
        "def plot_the_loss_curve(epochs, rmse):\n",
        "  \"\"\"Plot a curve of loss vs. epoch.\"\"\"\n",
        "\n",
        "  plt.figure()\n",
        "  plt.xlabel(\"Epoch\")\n",
        "  plt.ylabel(\"Root Mean Squared Error\")\n",
        "\n",
        "  plt.plot(epochs, rmse, label=\"Loss\")\n",
        "  plt.legend()\n",
        "  plt.ylim([rmse.min()*0.94, rmse.max()* 1.05])\n",
        "  plt.show()  "
      ],
      "metadata": {
        "id": "6QDQLcVDw3wT"
      },
      "execution_count": 4,
      "outputs": []
    },
    {
      "cell_type": "code",
      "source": [
        "learning_rate = 0.05\n",
        "epochs = 30\n",
        "batch_size = 100\n",
        "label_name = 'median_house_value'\n",
        "\n",
        "# Create and compile the model's topography.\n",
        "my_model = create_model(learning_rate, fp_feature_layer)\n",
        "\n",
        "# Train the model on the training set.\n",
        "epochs, rmse = train_model(my_model, train_df, epochs, batch_size, label_name)\n",
        "\n",
        "plot_the_loss_curve(epochs, rmse)\n",
        "\n",
        "print(\"\\n: Evaluate the new model against the test set:\")\n",
        "test_features = {name:np.array(value) for name, value in test_df.items()}\n",
        "test_label = np.array(test_features.pop(label_name))\n",
        "my_model.evaluate(x=test_features, y=test_label, batch_size=batch_size)"
      ],
      "metadata": {
        "colab": {
          "base_uri": "https://localhost:8080/",
          "height": 1000
        },
        "id": "0W_ttvLqw3y7",
        "outputId": "c5966250-e8f4-4a3e-960e-3d77452ed506"
      },
      "execution_count": 5,
      "outputs": [
        {
          "output_type": "stream",
          "name": "stderr",
          "text": [
            "/usr/local/lib/python3.7/dist-packages/keras/optimizer_v2/rmsprop.py:130: UserWarning: The `lr` argument is deprecated, use `learning_rate` instead.\n",
            "  super(RMSprop, self).__init__(name, **kwargs)\n"
          ]
        },
        {
          "output_type": "stream",
          "name": "stdout",
          "text": [
            "Epoch 1/30\n",
            "WARNING:tensorflow:Layers in a Sequential model should only have a single input tensor. Received: inputs={'longitude': <tf.Tensor 'IteratorGetNext:3' shape=(100,) dtype=float32>, 'latitude': <tf.Tensor 'IteratorGetNext:2' shape=(100,) dtype=float32>, 'housing_median_age': <tf.Tensor 'IteratorGetNext:1' shape=(100,) dtype=float32>, 'total_rooms': <tf.Tensor 'IteratorGetNext:7' shape=(100,) dtype=float32>, 'total_bedrooms': <tf.Tensor 'IteratorGetNext:6' shape=(100,) dtype=float32>, 'population': <tf.Tensor 'IteratorGetNext:5' shape=(100,) dtype=float32>, 'households': <tf.Tensor 'IteratorGetNext:0' shape=(100,) dtype=float32>, 'median_income': <tf.Tensor 'IteratorGetNext:4' shape=(100,) dtype=float32>}. Consider rewriting this model with the Functional API.\n",
            "WARNING:tensorflow:Layers in a Sequential model should only have a single input tensor. Received: inputs={'longitude': <tf.Tensor 'IteratorGetNext:3' shape=(100,) dtype=float32>, 'latitude': <tf.Tensor 'IteratorGetNext:2' shape=(100,) dtype=float32>, 'housing_median_age': <tf.Tensor 'IteratorGetNext:1' shape=(100,) dtype=float32>, 'total_rooms': <tf.Tensor 'IteratorGetNext:7' shape=(100,) dtype=float32>, 'total_bedrooms': <tf.Tensor 'IteratorGetNext:6' shape=(100,) dtype=float32>, 'population': <tf.Tensor 'IteratorGetNext:5' shape=(100,) dtype=float32>, 'households': <tf.Tensor 'IteratorGetNext:0' shape=(100,) dtype=float32>, 'median_income': <tf.Tensor 'IteratorGetNext:4' shape=(100,) dtype=float32>}. Consider rewriting this model with the Functional API.\n",
            "170/170 [==============================] - 2s 3ms/step - loss: 14696.6055 - root_mean_squared_error: 121.2296\n",
            "Epoch 2/30\n",
            "170/170 [==============================] - 1s 4ms/step - loss: 13477.4639 - root_mean_squared_error: 116.0925\n",
            "Epoch 3/30\n",
            "170/170 [==============================] - 1s 3ms/step - loss: 13431.3115 - root_mean_squared_error: 115.8935\n",
            "Epoch 4/30\n",
            "170/170 [==============================] - 1s 4ms/step - loss: 13391.9922 - root_mean_squared_error: 115.7238\n",
            "Epoch 5/30\n",
            "170/170 [==============================] - 1s 4ms/step - loss: 13337.8359 - root_mean_squared_error: 115.4895\n",
            "Epoch 6/30\n",
            "170/170 [==============================] - 1s 4ms/step - loss: 13304.6143 - root_mean_squared_error: 115.3456\n",
            "Epoch 7/30\n",
            "170/170 [==============================] - 1s 3ms/step - loss: 13273.9346 - root_mean_squared_error: 115.2126\n",
            "Epoch 8/30\n",
            "170/170 [==============================] - 1s 4ms/step - loss: 13234.4824 - root_mean_squared_error: 115.0412\n",
            "Epoch 9/30\n",
            "170/170 [==============================] - 1s 3ms/step - loss: 13210.1875 - root_mean_squared_error: 114.9356\n",
            "Epoch 10/30\n",
            "170/170 [==============================] - 1s 4ms/step - loss: 13175.3867 - root_mean_squared_error: 114.7841\n",
            "Epoch 11/30\n",
            "170/170 [==============================] - 1s 3ms/step - loss: 13143.3584 - root_mean_squared_error: 114.6445\n",
            "Epoch 12/30\n",
            "170/170 [==============================] - 1s 3ms/step - loss: 13125.6006 - root_mean_squared_error: 114.5670\n",
            "Epoch 13/30\n",
            "170/170 [==============================] - 1s 3ms/step - loss: 13087.0664 - root_mean_squared_error: 114.3987\n",
            "Epoch 14/30\n",
            "170/170 [==============================] - 1s 4ms/step - loss: 13065.1260 - root_mean_squared_error: 114.3028\n",
            "Epoch 15/30\n",
            "170/170 [==============================] - 1s 4ms/step - loss: 13052.1191 - root_mean_squared_error: 114.2459\n",
            "Epoch 16/30\n",
            "170/170 [==============================] - 1s 4ms/step - loss: 13017.8506 - root_mean_squared_error: 114.0958\n",
            "Epoch 17/30\n",
            "170/170 [==============================] - 1s 6ms/step - loss: 13011.6787 - root_mean_squared_error: 114.0687\n",
            "Epoch 18/30\n",
            "170/170 [==============================] - 1s 5ms/step - loss: 12977.2529 - root_mean_squared_error: 113.9177\n",
            "Epoch 19/30\n",
            "170/170 [==============================] - 1s 3ms/step - loss: 12974.4766 - root_mean_squared_error: 113.9056\n",
            "Epoch 20/30\n",
            "170/170 [==============================] - 1s 4ms/step - loss: 12950.7188 - root_mean_squared_error: 113.8012\n",
            "Epoch 21/30\n",
            "170/170 [==============================] - 1s 4ms/step - loss: 12925.7148 - root_mean_squared_error: 113.6913\n",
            "Epoch 22/30\n",
            "170/170 [==============================] - 1s 5ms/step - loss: 12924.5156 - root_mean_squared_error: 113.6860\n",
            "Epoch 23/30\n",
            "170/170 [==============================] - 1s 3ms/step - loss: 12901.1309 - root_mean_squared_error: 113.5831\n",
            "Epoch 24/30\n",
            "170/170 [==============================] - 1s 4ms/step - loss: 12899.7627 - root_mean_squared_error: 113.5771\n",
            "Epoch 25/30\n",
            "170/170 [==============================] - 1s 4ms/step - loss: 12897.5518 - root_mean_squared_error: 113.5674\n",
            "Epoch 26/30\n",
            "170/170 [==============================] - 1s 4ms/step - loss: 12859.0117 - root_mean_squared_error: 113.3976\n",
            "Epoch 27/30\n",
            "170/170 [==============================] - 1s 5ms/step - loss: 12866.7305 - root_mean_squared_error: 113.4316\n",
            "Epoch 28/30\n",
            "170/170 [==============================] - 1s 5ms/step - loss: 12856.4678 - root_mean_squared_error: 113.3864\n",
            "Epoch 29/30\n",
            "170/170 [==============================] - 1s 4ms/step - loss: 12845.4414 - root_mean_squared_error: 113.3377\n",
            "Epoch 30/30\n",
            "170/170 [==============================] - 1s 3ms/step - loss: 12843.6787 - root_mean_squared_error: 113.3300\n"
          ]
        },
        {
          "output_type": "display_data",
          "data": {
            "text/plain": [
              "<Figure size 432x288 with 1 Axes>"
            ],
            "image/png": "[encoded data removed]"
          },
          "metadata": {
            "needs_background": "light"
          }
        },
        {
          "output_type": "stream",
          "name": "stdout",
          "text": [
            "\n",
            ": Evaluate the new model against the test set:\n",
            "WARNING:tensorflow:Layers in a Sequential model should only have a single input tensor. Received: inputs={'longitude': <tf.Tensor 'IteratorGetNext:3' shape=(100,) dtype=float32>, 'latitude': <tf.Tensor 'IteratorGetNext:2' shape=(100,) dtype=float32>, 'housing_median_age': <tf.Tensor 'IteratorGetNext:1' shape=(100,) dtype=float32>, 'total_rooms': <tf.Tensor 'IteratorGetNext:7' shape=(100,) dtype=float32>, 'total_bedrooms': <tf.Tensor 'IteratorGetNext:6' shape=(100,) dtype=float32>, 'population': <tf.Tensor 'IteratorGetNext:5' shape=(100,) dtype=float32>, 'households': <tf.Tensor 'IteratorGetNext:0' shape=(100,) dtype=float32>, 'median_income': <tf.Tensor 'IteratorGetNext:4' shape=(100,) dtype=float32>}. Consider rewriting this model with the Functional API.\n",
            "30/30 [==============================] - 0s 4ms/step - loss: 12277.5039 - root_mean_squared_error: 110.8039\n"
          ]
        },
        {
          "output_type": "execute_result",
          "data": {
            "text/plain": [
              "[12277.50390625, 110.80390167236328]"
            ]
          },
          "metadata": {},
          "execution_count": 5
        }
      ]
    },
    {
      "cell_type": "code",
      "source": [
        "# using floating point values for longitude and latitude is not a good idea "
      ],
      "metadata": {
        "id": "PGvAZ2UDw31u"
      },
      "execution_count": 6,
      "outputs": []
    },
    {
      "cell_type": "code",
      "source": [
        "resolution_in_degrees = 1.0\n",
        "\n",
        "feature_columns = []\n",
        "\n",
        "latitude_as_a_numeric_column = tf.feature_column.numeric_column(\"latitude\")\n",
        "latitude_boundaries = list(np.arange(int(min(train_df[\"latitude\"])), \n",
        "                                int(max(train_df[\"latitude\"])), \n",
        "                                resolution_in_degrees))\n",
        "latitude = tf.feature_column.bucketized_column(latitude_as_a_numeric_column,\n",
        "                                               latitude_boundaries)\n",
        "feature_columns.append(latitude)\n",
        "\n",
        "longitude_as_a_numeric_column = tf.feature_column.numeric_column(\"longitude\")\n",
        "longitude_boundaries = list(np.arange(int(min(train_df[\"longitude\"])), \n",
        "                                int(max(train_df[\"longitude\"])), \n",
        "                                resolution_in_degrees))\n",
        "longitude = tf.feature_column.bucketized_column(longitude_as_a_numeric_column,\n",
        "                                              longitude_boundaries)\n",
        "feature_columns.append(longitude)\n",
        "buckets_feature_layer = layers.DenseFeatures(feature_columns)"
      ],
      "metadata": {
        "id": "sqVi6FZvw34M"
      },
      "execution_count": 7,
      "outputs": []
    },
    {
      "cell_type": "code",
      "source": [
        "learning_rate = 0.04\n",
        "epochs = 35\n",
        "\n",
        "# Build the model, this time passing in the buckets_feature_layer.\n",
        "my_model = create_model(learning_rate, buckets_feature_layer)\n",
        "\n",
        "# Train the model on the training set.\n",
        "epochs, rmse = train_model(my_model, train_df, epochs, batch_size, label_name)\n",
        "\n",
        "plot_the_loss_curve(epochs, rmse)\n",
        "\n",
        "print(\"\\n: Evaluate the new model against the test set:\")\n",
        "my_model.evaluate(x=test_features, y=test_label, batch_size=batch_size)"
      ],
      "metadata": {
        "colab": {
          "base_uri": "https://localhost:8080/",
          "height": 1000
        },
        "id": "uLREURMXw36z",
        "outputId": "016dba7d-134c-4a3a-e484-194fc07572a6"
      },
      "execution_count": 8,
      "outputs": [
        {
          "output_type": "stream",
          "name": "stderr",
          "text": [
            "/usr/local/lib/python3.7/dist-packages/keras/optimizer_v2/rmsprop.py:130: UserWarning: The `lr` argument is deprecated, use `learning_rate` instead.\n",
            "  super(RMSprop, self).__init__(name, **kwargs)\n"
          ]
        },
        {
          "output_type": "stream",
          "name": "stdout",
          "text": [
            "Epoch 1/35\n",
            "WARNING:tensorflow:Layers in a Sequential model should only have a single input tensor. Received: inputs={'longitude': <tf.Tensor 'IteratorGetNext:3' shape=(100,) dtype=float32>, 'latitude': <tf.Tensor 'IteratorGetNext:2' shape=(100,) dtype=float32>, 'housing_median_age': <tf.Tensor 'IteratorGetNext:1' shape=(100,) dtype=float32>, 'total_rooms': <tf.Tensor 'IteratorGetNext:7' shape=(100,) dtype=float32>, 'total_bedrooms': <tf.Tensor 'IteratorGetNext:6' shape=(100,) dtype=float32>, 'population': <tf.Tensor 'IteratorGetNext:5' shape=(100,) dtype=float32>, 'households': <tf.Tensor 'IteratorGetNext:0' shape=(100,) dtype=float32>, 'median_income': <tf.Tensor 'IteratorGetNext:4' shape=(100,) dtype=float32>}. Consider rewriting this model with the Functional API.\n",
            "WARNING:tensorflow:Layers in a Sequential model should only have a single input tensor. Received: inputs={'longitude': <tf.Tensor 'IteratorGetNext:3' shape=(100,) dtype=float32>, 'latitude': <tf.Tensor 'IteratorGetNext:2' shape=(100,) dtype=float32>, 'housing_median_age': <tf.Tensor 'IteratorGetNext:1' shape=(100,) dtype=float32>, 'total_rooms': <tf.Tensor 'IteratorGetNext:7' shape=(100,) dtype=float32>, 'total_bedrooms': <tf.Tensor 'IteratorGetNext:6' shape=(100,) dtype=float32>, 'population': <tf.Tensor 'IteratorGetNext:5' shape=(100,) dtype=float32>, 'households': <tf.Tensor 'IteratorGetNext:0' shape=(100,) dtype=float32>, 'median_income': <tf.Tensor 'IteratorGetNext:4' shape=(100,) dtype=float32>}. Consider rewriting this model with the Functional API.\n",
            "170/170 [==============================] - 1s 2ms/step - loss: 52085.5859 - root_mean_squared_error: 228.2227\n",
            "Epoch 2/35\n",
            "170/170 [==============================] - 0s 2ms/step - loss: 44714.8281 - root_mean_squared_error: 211.4588\n",
            "Epoch 3/35\n",
            "170/170 [==============================] - 0s 2ms/step - loss: 38117.7969 - root_mean_squared_error: 195.2378\n",
            "Epoch 4/35\n",
            "170/170 [==============================] - 0s 2ms/step - loss: 32306.4629 - root_mean_squared_error: 179.7400\n",
            "Epoch 5/35\n",
            "170/170 [==============================] - 0s 2ms/step - loss: 27268.3477 - root_mean_squared_error: 165.1313\n",
            "Epoch 6/35\n",
            "170/170 [==============================] - 0s 2ms/step - loss: 23014.0391 - root_mean_squared_error: 151.7038\n",
            "Epoch 7/35\n",
            "170/170 [==============================] - 0s 2ms/step - loss: 19507.4004 - root_mean_squared_error: 139.6689\n",
            "Epoch 8/35\n",
            "170/170 [==============================] - 0s 2ms/step - loss: 16697.8125 - root_mean_squared_error: 129.2200\n",
            "Epoch 9/35\n",
            "170/170 [==============================] - 0s 2ms/step - loss: 14540.8994 - root_mean_squared_error: 120.5857\n",
            "Epoch 10/35\n",
            "170/170 [==============================] - 0s 2ms/step - loss: 12970.8672 - root_mean_squared_error: 113.8897\n",
            "Epoch 11/35\n",
            "170/170 [==============================] - 0s 2ms/step - loss: 11949.5859 - root_mean_squared_error: 109.3142\n",
            "Epoch 12/35\n",
            "170/170 [==============================] - 0s 2ms/step - loss: 11324.7969 - root_mean_squared_error: 106.4180\n",
            "Epoch 13/35\n",
            "170/170 [==============================] - 0s 2ms/step - loss: 10985.8232 - root_mean_squared_error: 104.8133\n",
            "Epoch 14/35\n",
            "170/170 [==============================] - 0s 2ms/step - loss: 10788.6152 - root_mean_squared_error: 103.8683\n",
            "Epoch 15/35\n",
            "170/170 [==============================] - 0s 2ms/step - loss: 10672.7920 - root_mean_squared_error: 103.3092\n",
            "Epoch 16/35\n",
            "170/170 [==============================] - 0s 2ms/step - loss: 10598.7041 - root_mean_squared_error: 102.9500\n",
            "Epoch 17/35\n",
            "170/170 [==============================] - 0s 2ms/step - loss: 10549.9570 - root_mean_squared_error: 102.7130\n",
            "Epoch 18/35\n",
            "170/170 [==============================] - 0s 2ms/step - loss: 10517.2441 - root_mean_squared_error: 102.5536\n",
            "Epoch 19/35\n",
            "170/170 [==============================] - 0s 2ms/step - loss: 10493.9092 - root_mean_squared_error: 102.4398\n",
            "Epoch 20/35\n",
            "170/170 [==============================] - 0s 2ms/step - loss: 10475.7617 - root_mean_squared_error: 102.3512\n",
            "Epoch 21/35\n",
            "170/170 [==============================] - 0s 2ms/step - loss: 10460.8105 - root_mean_squared_error: 102.2781\n",
            "Epoch 22/35\n",
            "170/170 [==============================] - 0s 2ms/step - loss: 10447.8018 - root_mean_squared_error: 102.2145\n",
            "Epoch 23/35\n",
            "170/170 [==============================] - 0s 2ms/step - loss: 10436.2627 - root_mean_squared_error: 102.1580\n",
            "Epoch 24/35\n",
            "170/170 [==============================] - 0s 2ms/step - loss: 10425.4795 - root_mean_squared_error: 102.1052\n",
            "Epoch 25/35\n",
            "170/170 [==============================] - 0s 2ms/step - loss: 10415.6191 - root_mean_squared_error: 102.0569\n",
            "Epoch 26/35\n",
            "170/170 [==============================] - 0s 2ms/step - loss: 10406.4102 - root_mean_squared_error: 102.0118\n",
            "Epoch 27/35\n",
            "170/170 [==============================] - 0s 2ms/step - loss: 10397.5322 - root_mean_squared_error: 101.9683\n",
            "Epoch 28/35\n",
            "170/170 [==============================] - 0s 2ms/step - loss: 10389.7979 - root_mean_squared_error: 101.9304\n",
            "Epoch 29/35\n",
            "170/170 [==============================] - 0s 2ms/step - loss: 10382.0645 - root_mean_squared_error: 101.8924\n",
            "Epoch 30/35\n",
            "170/170 [==============================] - 0s 2ms/step - loss: 10374.6113 - root_mean_squared_error: 101.8558\n",
            "Epoch 31/35\n",
            "170/170 [==============================] - 0s 2ms/step - loss: 10367.3965 - root_mean_squared_error: 101.8204\n",
            "Epoch 32/35\n",
            "170/170 [==============================] - 0s 2ms/step - loss: 10360.2559 - root_mean_squared_error: 101.7853\n",
            "Epoch 33/35\n",
            "170/170 [==============================] - 0s 2ms/step - loss: 10353.5732 - root_mean_squared_error: 101.7525\n",
            "Epoch 34/35\n",
            "170/170 [==============================] - 0s 2ms/step - loss: 10346.8418 - root_mean_squared_error: 101.7194\n",
            "Epoch 35/35\n",
            "170/170 [==============================] - 0s 2ms/step - loss: 10340.1230 - root_mean_squared_error: 101.6864\n"
          ]
        },
        {
          "output_type": "display_data",
          "data": {
            "text/plain": [
              "<Figure size 432x288 with 1 Axes>"
            ],
            "image/png": "[encoded data removed]"
          },
          "metadata": {
            "needs_background": "light"
          }
        },
        {
          "output_type": "stream",
          "name": "stdout",
          "text": [
            "\n",
            ": Evaluate the new model against the test set:\n",
            "WARNING:tensorflow:Layers in a Sequential model should only have a single input tensor. Received: inputs={'longitude': <tf.Tensor 'IteratorGetNext:3' shape=(100,) dtype=float32>, 'latitude': <tf.Tensor 'IteratorGetNext:2' shape=(100,) dtype=float32>, 'housing_median_age': <tf.Tensor 'IteratorGetNext:1' shape=(100,) dtype=float32>, 'total_rooms': <tf.Tensor 'IteratorGetNext:7' shape=(100,) dtype=float32>, 'total_bedrooms': <tf.Tensor 'IteratorGetNext:6' shape=(100,) dtype=float32>, 'population': <tf.Tensor 'IteratorGetNext:5' shape=(100,) dtype=float32>, 'households': <tf.Tensor 'IteratorGetNext:0' shape=(100,) dtype=float32>, 'median_income': <tf.Tensor 'IteratorGetNext:4' shape=(100,) dtype=float32>}. Consider rewriting this model with the Functional API.\n",
            "30/30 [==============================] - 0s 2ms/step - loss: 10199.1670 - root_mean_squared_error: 100.9909\n"
          ]
        },
        {
          "output_type": "execute_result",
          "data": {
            "text/plain": [
              "[10199.1669921875, 100.99092864990234]"
            ]
          },
          "metadata": {},
          "execution_count": 8
        }
      ]
    },
    {
      "cell_type": "code",
      "source": [
        "# we can take it a step further\n",
        "# do a feature cross of longitude and latitude\n",
        "resolution_in_degrees = 0.1\n",
        "feature_columns = []\n",
        "\n",
        "# Create a bucket feature column for latitude.\n",
        "latitude_as_a_numeric_column = tf.feature_column.numeric_column(\"latitude\")\n",
        "latitude_boundaries = list(np.arange(int(min(train_df['latitude'])), int(max(train_df['latitude'])), resolution_in_degrees))\n",
        "latitude = tf.feature_column.bucketized_column(latitude_as_a_numeric_column, latitude_boundaries)\n",
        "\n",
        "# Create a bucket feature column for longitude.\n",
        "longitude_as_a_numeric_column = tf.feature_column.numeric_column(\"longitude\")\n",
        "longitude_boundaries = list(np.arange(int(min(train_df['longitude'])), int(max(train_df['longitude'])), resolution_in_degrees))\n",
        "longitude = tf.feature_column.bucketized_column(longitude_as_a_numeric_column, longitude_boundaries)\n",
        "\n",
        "latitude_x_longitude = tf.feature_column.crossed_column([latitude, longitude], \n",
        "                                                        hash_bucket_size=100)\n",
        "crossed_feature = tf.feature_column.indicator_column(latitude_x_longitude)\n",
        "feature_columns.append(crossed_feature)                              \n",
        "\n",
        "feature_cross_feature_layer = layers.DenseFeatures(feature_columns)"
      ],
      "metadata": {
        "id": "WXLRrknDw39c"
      },
      "execution_count": 9,
      "outputs": []
    },
    {
      "cell_type": "code",
      "source": [
        "learning_rate = 0.04\n",
        "epochs = 35\n",
        "\n",
        "# Build the model, this time passing in the feature_cross_feature_layer: \n",
        "my_model = create_model(learning_rate, feature_cross_feature_layer)\n",
        "\n",
        "# Train the model on the training set.\n",
        "epochs, rmse = train_model(my_model, train_df, epochs, batch_size, label_name)\n",
        "\n",
        "plot_the_loss_curve(epochs, rmse)\n",
        "\n",
        "print(\"\\n: Evaluate the new model against the test set:\")\n",
        "my_model.evaluate(x=test_features, y=test_label, batch_size=batch_size)"
      ],
      "metadata": {
        "colab": {
          "base_uri": "https://localhost:8080/",
          "height": 1000
        },
        "id": "id1Ws7XAw3_8",
        "outputId": "942be1cb-189f-49de-fa84-09010b9327bd"
      },
      "execution_count": 10,
      "outputs": [
        {
          "output_type": "stream",
          "name": "stdout",
          "text": [
            "Epoch 1/35\n",
            "WARNING:tensorflow:Layers in a Sequential model should only have a single input tensor. Received: inputs={'longitude': <tf.Tensor 'IteratorGetNext:3' shape=(100,) dtype=float32>, 'latitude': <tf.Tensor 'IteratorGetNext:2' shape=(100,) dtype=float32>, 'housing_median_age': <tf.Tensor 'IteratorGetNext:1' shape=(100,) dtype=float32>, 'total_rooms': <tf.Tensor 'IteratorGetNext:7' shape=(100,) dtype=float32>, 'total_bedrooms': <tf.Tensor 'IteratorGetNext:6' shape=(100,) dtype=float32>, 'population': <tf.Tensor 'IteratorGetNext:5' shape=(100,) dtype=float32>, 'households': <tf.Tensor 'IteratorGetNext:0' shape=(100,) dtype=float32>, 'median_income': <tf.Tensor 'IteratorGetNext:4' shape=(100,) dtype=float32>}. Consider rewriting this model with the Functional API.\n"
          ]
        },
        {
          "output_type": "stream",
          "name": "stderr",
          "text": [
            "/usr/local/lib/python3.7/dist-packages/keras/optimizer_v2/rmsprop.py:130: UserWarning: The `lr` argument is deprecated, use `learning_rate` instead.\n",
            "  super(RMSprop, self).__init__(name, **kwargs)\n"
          ]
        },
        {
          "output_type": "stream",
          "name": "stdout",
          "text": [
            "WARNING:tensorflow:Layers in a Sequential model should only have a single input tensor. Received: inputs={'longitude': <tf.Tensor 'IteratorGetNext:3' shape=(100,) dtype=float32>, 'latitude': <tf.Tensor 'IteratorGetNext:2' shape=(100,) dtype=float32>, 'housing_median_age': <tf.Tensor 'IteratorGetNext:1' shape=(100,) dtype=float32>, 'total_rooms': <tf.Tensor 'IteratorGetNext:7' shape=(100,) dtype=float32>, 'total_bedrooms': <tf.Tensor 'IteratorGetNext:6' shape=(100,) dtype=float32>, 'population': <tf.Tensor 'IteratorGetNext:5' shape=(100,) dtype=float32>, 'households': <tf.Tensor 'IteratorGetNext:0' shape=(100,) dtype=float32>, 'median_income': <tf.Tensor 'IteratorGetNext:4' shape=(100,) dtype=float32>}. Consider rewriting this model with the Functional API.\n",
            "170/170 [==============================] - 1s 2ms/step - loss: 53857.4570 - root_mean_squared_error: 232.0721\n",
            "Epoch 2/35\n",
            "170/170 [==============================] - 0s 2ms/step - loss: 49352.9453 - root_mean_squared_error: 222.1552\n",
            "Epoch 3/35\n",
            "170/170 [==============================] - 0s 2ms/step - loss: 45125.1562 - root_mean_squared_error: 212.4268\n",
            "Epoch 4/35\n",
            "170/170 [==============================] - 0s 2ms/step - loss: 41183.0312 - root_mean_squared_error: 202.9360\n",
            "Epoch 5/35\n",
            "170/170 [==============================] - 0s 2ms/step - loss: 37496.2188 - root_mean_squared_error: 193.6394\n",
            "Epoch 6/35\n",
            "170/170 [==============================] - 0s 2ms/step - loss: 34080.6172 - root_mean_squared_error: 184.6094\n",
            "Epoch 7/35\n",
            "170/170 [==============================] - 0s 2ms/step - loss: 30951.3398 - root_mean_squared_error: 175.9299\n",
            "Epoch 8/35\n",
            "170/170 [==============================] - 0s 2ms/step - loss: 28080.3691 - root_mean_squared_error: 167.5720\n",
            "Epoch 9/35\n",
            "170/170 [==============================] - 0s 2ms/step - loss: 25470.7988 - root_mean_squared_error: 159.5957\n",
            "Epoch 10/35\n",
            "170/170 [==============================] - 0s 2ms/step - loss: 23133.4805 - root_mean_squared_error: 152.0969\n",
            "Epoch 11/35\n",
            "170/170 [==============================] - 0s 2ms/step - loss: 21056.8203 - root_mean_squared_error: 145.1097\n",
            "Epoch 12/35\n",
            "170/170 [==============================] - 0s 2ms/step - loss: 19224.1562 - root_mean_squared_error: 138.6512\n",
            "Epoch 13/35\n",
            "170/170 [==============================] - 0s 2ms/step - loss: 17641.0449 - root_mean_squared_error: 132.8196\n",
            "Epoch 14/35\n",
            "170/170 [==============================] - 0s 2ms/step - loss: 16270.5732 - root_mean_squared_error: 127.5562\n",
            "Epoch 15/35\n",
            "170/170 [==============================] - 0s 2ms/step - loss: 15125.9209 - root_mean_squared_error: 122.9875\n",
            "Epoch 16/35\n",
            "170/170 [==============================] - 0s 2ms/step - loss: 14181.4053 - root_mean_squared_error: 119.0857\n",
            "Epoch 17/35\n",
            "170/170 [==============================] - 0s 2ms/step - loss: 13417.5420 - root_mean_squared_error: 115.8341\n",
            "Epoch 18/35\n",
            "170/170 [==============================] - 0s 2ms/step - loss: 12796.7666 - root_mean_squared_error: 113.1228\n",
            "Epoch 19/35\n",
            "170/170 [==============================] - 0s 2ms/step - loss: 12333.2520 - root_mean_squared_error: 111.0552\n",
            "Epoch 20/35\n",
            "170/170 [==============================] - 0s 2ms/step - loss: 11991.0928 - root_mean_squared_error: 109.5038\n",
            "Epoch 21/35\n",
            "170/170 [==============================] - 0s 2ms/step - loss: 11746.7324 - root_mean_squared_error: 108.3823\n",
            "Epoch 22/35\n",
            "170/170 [==============================] - 0s 2ms/step - loss: 11576.4707 - root_mean_squared_error: 107.5940\n",
            "Epoch 23/35\n",
            "170/170 [==============================] - 0s 2ms/step - loss: 11449.5244 - root_mean_squared_error: 107.0024\n",
            "Epoch 24/35\n",
            "170/170 [==============================] - 0s 2ms/step - loss: 11345.4639 - root_mean_squared_error: 106.5151\n",
            "Epoch 25/35\n",
            "170/170 [==============================] - 0s 2ms/step - loss: 11253.8730 - root_mean_squared_error: 106.0843\n",
            "Epoch 26/35\n",
            "170/170 [==============================] - 0s 2ms/step - loss: 11173.4648 - root_mean_squared_error: 105.7046\n",
            "Epoch 27/35\n",
            "170/170 [==============================] - 0s 2ms/step - loss: 11102.9482 - root_mean_squared_error: 105.3705\n",
            "Epoch 28/35\n",
            "170/170 [==============================] - 0s 2ms/step - loss: 11040.0811 - root_mean_squared_error: 105.0718\n",
            "Epoch 29/35\n",
            "170/170 [==============================] - 0s 2ms/step - loss: 10984.8125 - root_mean_squared_error: 104.8085\n",
            "Epoch 30/35\n",
            "170/170 [==============================] - 0s 2ms/step - loss: 10935.3604 - root_mean_squared_error: 104.5723\n",
            "Epoch 31/35\n",
            "170/170 [==============================] - 0s 2ms/step - loss: 10891.5391 - root_mean_squared_error: 104.3625\n",
            "Epoch 32/35\n",
            "170/170 [==============================] - 0s 2ms/step - loss: 10852.2461 - root_mean_squared_error: 104.1741\n",
            "Epoch 33/35\n",
            "170/170 [==============================] - 0s 2ms/step - loss: 10817.5234 - root_mean_squared_error: 104.0073\n",
            "Epoch 34/35\n",
            "170/170 [==============================] - 0s 2ms/step - loss: 10787.0518 - root_mean_squared_error: 103.8607\n",
            "Epoch 35/35\n",
            "170/170 [==============================] - 0s 2ms/step - loss: 10760.0967 - root_mean_squared_error: 103.7309\n"
          ]
        },
        {
          "output_type": "display_data",
          "data": {
            "text/plain": [
              "<Figure size 432x288 with 1 Axes>"
            ],
            "image/png": "[encoded data removed]"
          },
          "metadata": {
            "needs_background": "light"
          }
        },
        {
          "output_type": "stream",
          "name": "stdout",
          "text": [
            "\n",
            ": Evaluate the new model against the test set:\n",
            "WARNING:tensorflow:Layers in a Sequential model should only have a single input tensor. Received: inputs={'longitude': <tf.Tensor 'IteratorGetNext:3' shape=(100,) dtype=float32>, 'latitude': <tf.Tensor 'IteratorGetNext:2' shape=(100,) dtype=float32>, 'housing_median_age': <tf.Tensor 'IteratorGetNext:1' shape=(100,) dtype=float32>, 'total_rooms': <tf.Tensor 'IteratorGetNext:7' shape=(100,) dtype=float32>, 'total_bedrooms': <tf.Tensor 'IteratorGetNext:6' shape=(100,) dtype=float32>, 'population': <tf.Tensor 'IteratorGetNext:5' shape=(100,) dtype=float32>, 'households': <tf.Tensor 'IteratorGetNext:0' shape=(100,) dtype=float32>, 'median_income': <tf.Tensor 'IteratorGetNext:4' shape=(100,) dtype=float32>}. Consider rewriting this model with the Functional API.\n",
            "30/30 [==============================] - 0s 2ms/step - loss: 10520.7695 - root_mean_squared_error: 102.5708\n"
          ]
        },
        {
          "output_type": "execute_result",
          "data": {
            "text/plain": [
              "[10520.76953125, 102.57080078125]"
            ]
          },
          "metadata": {},
          "execution_count": 10
        }
      ]
    }
  ]
}